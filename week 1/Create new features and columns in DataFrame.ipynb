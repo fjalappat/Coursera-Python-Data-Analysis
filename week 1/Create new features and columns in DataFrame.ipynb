{
 "cells": [
  {
   "cell_type": "code",
   "execution_count": 1,
   "source": [
    "import pandas as pd\r\n",
    "import matplotlib.pyplot as plt\r\n",
    "%matplotlib inline"
   ],
   "outputs": [],
   "metadata": {
    "collapsed": true
   }
  },
  {
   "cell_type": "code",
   "execution_count": 18,
   "source": [
    "fb = pd.read_csv('../data/facebook.csv')\r\n",
    "ms = pd.read_csv('../data/microsoft.csv')"
   ],
   "outputs": [],
   "metadata": {
    "collapsed": true
   }
  },
  {
   "cell_type": "markdown",
   "source": [
    "## Create a new column in the DataFrame (1) - Price difference"
   ],
   "metadata": {}
  },
  {
   "cell_type": "code",
   "execution_count": 19,
   "source": [
    "#Create a new column PriceDiff in the DataFrame fb\r\n",
    "fb['PriceDiff'] = fb['Close'].shift(-1) - fb['Close']"
   ],
   "outputs": [],
   "metadata": {
    "collapsed": true
   }
  },
  {
   "cell_type": "code",
   "execution_count": 20,
   "source": [
    "#Your turn to create PriceDiff in the DataFrame ms\r\n",
    "print(ms.tail())\r\n",
    "ms['PriceDiff'] = ms['Close'].shift(-1) - ms['Close']\r\n",
    "print(ms.tail())\r\n"
   ],
   "outputs": [
    {
     "output_type": "stream",
     "name": "stdout",
     "text": [
      "           Date       Open       High        Low      Close  Adj Close  \\\n",
      "775  2018-01-30  93.300003  93.660004  92.099998  92.739998  92.306389   \n",
      "776  2018-01-31  93.750000  95.400002  93.510002  95.010002  94.565781   \n",
      "777  2018-02-01  94.790001  96.070000  93.580002  94.260002  93.819290   \n",
      "778  2018-02-02  93.639999  93.970001  91.500000  91.779999  91.350883   \n",
      "779  2018-02-05  90.559998  93.239998  88.000000  88.000000  87.588554   \n",
      "\n",
      "       Volume  \n",
      "775  38635100  \n",
      "776  48756300  \n",
      "777  47227900  \n",
      "778  47867800  \n",
      "779  51031500  \n",
      "           Date       Open       High        Low      Close  Adj Close  \\\n",
      "775  2018-01-30  93.300003  93.660004  92.099998  92.739998  92.306389   \n",
      "776  2018-01-31  93.750000  95.400002  93.510002  95.010002  94.565781   \n",
      "777  2018-02-01  94.790001  96.070000  93.580002  94.260002  93.819290   \n",
      "778  2018-02-02  93.639999  93.970001  91.500000  91.779999  91.350883   \n",
      "779  2018-02-05  90.559998  93.239998  88.000000  88.000000  87.588554   \n",
      "\n",
      "       Volume  PriceDiff  \n",
      "775  38635100   2.270004  \n",
      "776  48756300  -0.750000  \n",
      "777  47227900  -2.480003  \n",
      "778  47867800  -3.779999  \n",
      "779  51031500        NaN  \n"
     ]
    }
   ],
   "metadata": {
    "collapsed": true
   }
  },
  {
   "cell_type": "code",
   "execution_count": 21,
   "source": [
    "#Run this code to display the price difference of Microsoft on 2015-01-05\r\n",
    "ms = ms.set_index('Date')\r\n",
    "print(ms.index)\r\n",
    "\r\n",
    "print(ms['PriceDiff'].loc['2015-01-05'])"
   ],
   "outputs": [
    {
     "output_type": "stream",
     "name": "stdout",
     "text": [
      "Index(['2014-12-31', '2015-01-02', '2015-01-05', '2015-01-06', '2015-01-07',\n",
      "       '2015-01-08', '2015-01-09', '2015-01-12', '2015-01-13', '2015-01-14',\n",
      "       ...\n",
      "       '2018-01-23', '2018-01-24', '2018-01-25', '2018-01-26', '2018-01-29',\n",
      "       '2018-01-30', '2018-01-31', '2018-02-01', '2018-02-02', '2018-02-05'],\n",
      "      dtype='object', name='Date', length=780)\n",
      "-0.6799999999999997\n"
     ]
    }
   ],
   "metadata": {
    "collapsed": true
   }
  },
  {
   "cell_type": "markdown",
   "source": [
    "** Expected Output: ** -0.68"
   ],
   "metadata": {}
  },
  {
   "cell_type": "markdown",
   "source": [
    "## Create a new column in the DataFrame (2) - Daily return\n",
    "\n",
    "Daily Return is calcuated as PriceDiff/Close"
   ],
   "metadata": {}
  },
  {
   "cell_type": "code",
   "execution_count": 22,
   "source": [
    "#Create a new column Return in the DataFrame fb\r\n",
    "fb['Return'] = fb['PriceDiff'] /fb['Close']"
   ],
   "outputs": [],
   "metadata": {
    "collapsed": true
   }
  },
  {
   "cell_type": "code",
   "execution_count": 23,
   "source": [
    "#Your turn to create a new column Return in the DataFrame MS\r\n",
    "ms['Return'] = ms['PriceDiff'] / ms['Close']"
   ],
   "outputs": [],
   "metadata": {
    "collapsed": true
   }
  },
  {
   "cell_type": "code",
   "execution_count": 24,
   "source": [
    "#Run this code to print the return on 2015-01-05\r\n",
    "print(ms['Return'].loc['2015-01-05'])"
   ],
   "outputs": [
    {
     "output_type": "stream",
     "name": "stdout",
     "text": [
      "-0.014677314281143345\n"
     ]
    }
   ],
   "metadata": {
    "collapsed": true
   }
  },
  {
   "cell_type": "markdown",
   "source": [
    "** Expected Output: ** -0.0146773142811"
   ],
   "metadata": {}
  },
  {
   "cell_type": "markdown",
   "source": [
    "## Create a new column in the DataFrame using List Comprehension - Direction"
   ],
   "metadata": {}
  },
  {
   "cell_type": "code",
   "execution_count": 26,
   "source": [
    "#Create a new column Direction. \r\n",
    "#The List Comprehension means : if the price difference is larger than 0, denote as 1, otherwise, denote as 0,\r\n",
    "#for every record in the DataFrame - fb\r\n",
    "\r\n",
    "fb['Direction'] = [1 if fb['PriceDiff'].loc[ei] > 0 else 0 for ei in fb.index ]"
   ],
   "outputs": [],
   "metadata": {
    "collapsed": true
   }
  },
  {
   "cell_type": "code",
   "execution_count": 28,
   "source": [
    "# Your turn to create a new column Direction for MS\r\n",
    "\r\n",
    "ms['Direction'] = [1 if ms['PriceDiff'].loc[ei] > 0 else 0 for ei in ms.index ]\r\n",
    "print(ms.head())"
   ],
   "outputs": [
    {
     "output_type": "stream",
     "name": "stdout",
     "text": [
      "                 Open       High        Low      Close  Adj Close    Volume  \\\n",
      "Date                                                                          \n",
      "2014-12-31  46.730000  47.439999  46.450001  46.450001  42.848763  21552500   \n",
      "2015-01-02  46.660000  47.419998  46.540001  46.759998  43.134731  27913900   \n",
      "2015-01-05  46.369999  46.730000  46.250000  46.330002  42.738068  39673900   \n",
      "2015-01-06  46.380001  46.750000  45.540001  45.650002  42.110783  36447900   \n",
      "2015-01-07  45.980000  46.459999  45.490002  46.230000  42.645817  29114100   \n",
      "\n",
      "            PriceDiff    Return  Direction  \n",
      "Date                                        \n",
      "2014-12-31   0.309997  0.006674          1  \n",
      "2015-01-02  -0.429996 -0.009196          0  \n",
      "2015-01-05  -0.680000 -0.014677          0  \n",
      "2015-01-06   0.579998  0.012705          1  \n",
      "2015-01-07   1.360000  0.029418          1  \n"
     ]
    }
   ],
   "metadata": {
    "collapsed": true
   }
  },
  {
   "cell_type": "code",
   "execution_count": null,
   "source": [
    "# Run the following code to show the price difference on 2015-01-05\r\n",
    "print('Price difference on {} is {}. direction is {}'.format('2015-01-05', ms['PriceDiff'].loc['2015-01-05'], ms['Direction'].loc['2015-01-05']))"
   ],
   "outputs": [],
   "metadata": {
    "collapsed": true
   }
  },
  {
   "cell_type": "markdown",
   "source": [
    "** Expected Output: ** Price difference on 2015-01-05 is -0.6799999999999997. direction is 0"
   ],
   "metadata": {}
  },
  {
   "cell_type": "markdown",
   "source": [
    "## Create a new column in the DataFrame using Rolling Window calculation (.rolling()) - Moving average"
   ],
   "metadata": {}
  },
  {
   "cell_type": "code",
   "execution_count": null,
   "source": [
    "fb['ma50'] = fb['Close'].rolling(50).mean()\n",
    "\n",
    "#plot the moving average\n",
    "plt.figure(figsize=(10, 8))\n",
    "fb['ma50'].loc['2015-01-01':'2015-12-31'].plot(label='MA50')\n",
    "fb['Close'].loc['2015-01-01':'2015-12-31'].plot(label='Close')\n",
    "plt.legend()\n",
    "plt.show()"
   ],
   "outputs": [],
   "metadata": {
    "collapsed": true
   }
  },
  {
   "cell_type": "code",
   "execution_count": null,
   "source": [
    "# You can use .rolling() to calculate any numbers of days' Moving Average. This is your turn to calculate \"60 days\"\n",
    "# moving average of Microsoft, rename it as \"ma60\". And follow the codes above in plotting a graph\n",
    "\n",
    "ms['ma60'] = None\n",
    "\n",
    "#plot the moving average\n",
    "plt.figure(figsize=(10, 8))\n",
    "ms['ma60'].loc['2015-01-01':'2015-12-31'].plot(label='MA60')\n",
    "ms['Close'].loc['2015-01-01':'2015-12-31'].plot(label='Close')\n",
    "plt.legend()\n",
    "plt.show()"
   ],
   "outputs": [],
   "metadata": {
    "collapsed": true
   }
  },
  {
   "cell_type": "markdown",
   "source": [
    "** Expected Output: **"
   ],
   "metadata": {}
  },
  {
   "cell_type": "markdown",
   "source": [
    "<img src=\"MA.png\">"
   ],
   "metadata": {}
  }
 ],
 "metadata": {
  "kernelspec": {
   "name": "python3",
   "display_name": "Python 3.7.2 64-bit"
  },
  "language_info": {
   "codemirror_mode": {
    "name": "ipython",
    "version": 3
   },
   "file_extension": ".py",
   "mimetype": "text/x-python",
   "name": "python",
   "nbconvert_exporter": "python",
   "pygments_lexer": "ipython3",
   "version": "3.7.2"
  },
  "interpreter": {
   "hash": "adcba96a5c958862b164053d7bc933dcf746e6ef9289e86de14ba11d716dbec1"
  }
 },
 "nbformat": 4,
 "nbformat_minor": 2
}